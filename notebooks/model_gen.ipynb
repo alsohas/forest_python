{
 "cells": [
  {
   "cell_type": "code",
   "execution_count": 7,
   "metadata": {},
   "outputs": [],
   "source": [
    "import keras\n",
    "import numpy as np\n",
    "import os\n",
    "import pickle\n",
    "import gzip\n",
    "from sklearn.model_selection import train_test_split\n",
    "from sklearn.ensemble import RandomForestClassifier\n",
    "from sklearn.tree import DecisionTreeClassifier\n",
    "from sklearn.linear_model import SGDClassifier\n",
    "from sklearn.metrics import accuracy_score"
   ]
  },
  {
   "cell_type": "code",
   "execution_count": 8,
   "metadata": {},
   "outputs": [],
   "source": [
    "step_count = 6\n",
    "base_path = 'C:/Users/abdul/Desktop/forest_python/'\n",
    "data_path = os.path.join(base_path, 'data')\n",
    "pickle_folder = os.path.join(data_path, 'pickles')\n",
    "trips_file_path = os.path.join(data_path, 'map_matched_all/')\n",
    "mapped_dict_file_name = 'mapped_dict.json'\n",
    "nodes_file_name = 'chengdu_nodes.json'"
   ]
  },
  {
   "cell_type": "code",
   "execution_count": 9,
   "metadata": {},
   "outputs": [],
   "source": [
    "def gen_weights(Y_train, sig=False, relu=False):\n",
    "    weights = {}\n",
    "    for y in Y_train:\n",
    "        weights[y] = weights.get(y, 0) + 1\n",
    "    if sig: return sigmoid_weights(weights)\n",
    "    if relu: return relu_weights(weights)\n",
    "    return weights\n",
    "\n",
    "def relu_weights(weights):\n",
    "    weights_relu = {}\n",
    "    low = 50\n",
    "    for n, w in weights.items():\n",
    "        if w > low:\n",
    "            weights_relu[n] = w\n",
    "        else:\n",
    "            weights_relu[n] = -999.0\n",
    "\n",
    "def sigmoid_weights(weights):\n",
    "    import math\n",
    "    weights_sigmoid = {}\n",
    "    for n, w in weights.items():\n",
    "            weights_sigmoid[n] = 1 / (1 + math.exp(-w))\n",
    "    return weights_sigmoid"
   ]
  },
  {
   "cell_type": "code",
   "execution_count": 10,
   "metadata": {},
   "outputs": [],
   "source": [
    "def print_accuracy(dtree, X_test, Y_test, step):\n",
    "    total_acc = 0\n",
    "    for i in range(10):\n",
    "        min_index = round((i * 0.1) * len(Y_test))\n",
    "        max_index = round((i+1) * 0.1 * len(Y_test))\n",
    "        x = X_test[min_index:max_index]\n",
    "        y = Y_test[min_index:max_index]\n",
    "        pred = dtree.predict(x)\n",
    "        total_acc += accuracy_score(y, pred)\n",
    "    total_acc /= 10.0\n",
    "    print(f'Accuracy for step {step}: {total_acc}')"
   ]
  },
  {
   "cell_type": "code",
   "execution_count": 11,
   "metadata": {},
   "outputs": [],
   "source": [
    "def train_and_save(step, X, Y):\n",
    "    X_train = X\n",
    "    Y_train = Y\n",
    "    weights = gen_weights(Y_train, sig=True)\n",
    "    dtree2 = DecisionTreeClassifier(class_weight=weights)\n",
    "    dtree2.fit(X_train, Y_train)\n",
    "    fp=gzip.open(os.path.join(pickle_folder, f'dtree_{step}.pkl'),'wb')\n",
    "    pickle.dump(dtree2,fp)\n",
    "    fp.close()"
   ]
  },
  {
   "cell_type": "code",
   "execution_count": 12,
   "metadata": {},
   "outputs": [],
   "source": [
    "def train_save_all():\n",
    "    for step in range(1, step_count+1):\n",
    "        pickle_x = os.path.join(pickle_folder, f'X_{step}.pkl')\n",
    "        pickle_y = os.path.join(pickle_folder, f'Y_{step}.pkl')\n",
    "        X: np.ndarray = pickle.load(open(pickle_x, \"rb\")).astype('int16')\n",
    "        Y: np.ndarray = pickle.load(open(pickle_y, \"rb\")).astype('int16')\n",
    "        train_and_save(step, X, Y)"
   ]
  },
  {
   "cell_type": "code",
   "execution_count": 16,
   "metadata": {},
   "outputs": [],
   "source": [
    "def load_predict(step):\n",
    "    pickle_x = os.path.join(pickle_folder, f'X_{step}.pkl')\n",
    "    pickle_y = os.path.join(pickle_folder, f'Y_{step}.pkl')\n",
    "    X: np.ndarray = pickle.load(open(pickle_x, \"rb\")).astype('int16')[:2000]\n",
    "    Y: np.ndarray = pickle.load(open(pickle_y, \"rb\")).astype('int16')[:2000]\n",
    "    fp=gzip.open(os.path.join(pickle_folder, f'dtree_{step}.pkl'),'rb')\n",
    "    dtree=pickle.load(fp)\n",
    "    fp.close()\n",
    "    print_accuracy(dtree, X, Y, step)\n",
    "    "
   ]
  },
  {
   "cell_type": "code",
   "execution_count": 84,
   "metadata": {},
   "outputs": [
    {
     "name": "stdout",
     "output_type": "stream",
     "text": [
      "[1502]\n"
     ]
    },
    {
     "data": {
      "text/plain": [
       "1502"
      ]
     },
     "execution_count": 84,
     "metadata": {},
     "output_type": "execute_result"
    }
   ],
   "source": [
    "# def load_dtree(step: int) -> DecisionTreeClassifier:\n",
    "#     fp = gzip.open(os.path.join(pickle_folder, f'dtree_{step}.pkl'), 'rb')\n",
    "#     dtree = pickle.load(fp)\n",
    "#     fp.close()\n",
    "#     return dtree\n",
    "\n",
    "feature = [np.array([0,0,0,3,4,5,6,9])]\n",
    "print(dt.predict(feature))\n",
    "p = dt.predict_proba(feature).tolist()\n",
    "sp = None\n",
    "for _p in p:\n",
    "    if not sp: sp = np.add(_p, 0)\n",
    "    else: sp = np.add(sp, _p)\n",
    "dt.classes_[np.argmax(sp)]\n",
    "# s = dict(zip(dt.classes_, ))"
   ]
  },
  {
   "cell_type": "code",
   "execution_count": 79,
   "metadata": {},
   "outputs": [
    {
     "data": {
      "text/plain": [
       "array([ 2,  2,  2,  5,  6,  7,  8, 11])"
      ]
     },
     "execution_count": 79,
     "metadata": {},
     "output_type": "execute_result"
    }
   ],
   "source": [
    "np.add(np.array([0,0,0,3,4,5,6,9]), 2)"
   ]
  },
  {
   "cell_type": "code",
   "execution_count": 46,
   "metadata": {},
   "outputs": [
    {
     "data": {
      "text/plain": [
       "'\\nn_estimators=30, max_depth=70, sigmoid\\nAccuracy for step 1: 0.8217000000000001\\nAccuracy for step 2: 0.734675\\nAccuracy for step 3: 0.6575\\nAccuracy for step 4: 0.5940000000000001\\nAccuracy for step 5: 0.5400499999999999\\nAccuracy for step 6: 0.490725'"
      ]
     },
     "execution_count": 46,
     "metadata": {},
     "output_type": "execute_result"
    }
   ],
   "source": [
    "'''\n",
    "15=n, 70=depth 500k in, sigmod\n",
    "Accuracy for step 1: 0.84487\n",
    "Accuracy for step 2: 0.7530699999999999\n",
    "Accuracy for step 3: 0.67774\n",
    "Accuracy for step 4: 0.6162099999999999\n",
    "Accuracy for step 5: 0.5616700000000001\n",
    "Accuracy for step 6: 0.51528\n",
    "\n",
    "20=n, 80=depth\n",
    "Accuracy for step 1: 0.8244\n",
    "Accuracy for step 2: 0.731925\n",
    "Accuracy for step 3: 0.657875\n",
    "Accuracy for step 4: 0.5936250000000001\n",
    "Accuracy for step 5: 0.5365\n",
    "Accuracy for step 6: 0.49605000000000005'''\n",
    "\n",
    "'''\n",
    "n_estimators=30, max_depth=70, sigmoid\n",
    "Accuracy for step 1: 0.8217000000000001\n",
    "Accuracy for step 2: 0.734675\n",
    "Accuracy for step 3: 0.6575\n",
    "Accuracy for step 4: 0.5940000000000001\n",
    "Accuracy for step 5: 0.5400499999999999\n",
    "Accuracy for step 6: 0.490725'''"
   ]
  },
  {
   "cell_type": "code",
   "execution_count": null,
   "metadata": {},
   "outputs": [],
   "source": []
  },
  {
   "cell_type": "code",
   "execution_count": null,
   "metadata": {},
   "outputs": [],
   "source": [
    "'''\n",
    "No weights applied\n",
    "Accuracy for step 1: 0.8217000000000001\n",
    "Accuracy for step 2: 0.7322750000000001\n",
    "Accuracy for step 3: 0.6553000000000001\n",
    "Accuracy for step 4: 0.593425\n",
    "Accuracy for step 5: 0.5380499999999999\n",
    "Accuracy for step 6: 0.49262500000000004\n",
    "\n",
    "SIGMOID:\n",
    "Accuracy for step 1: 0.8404\n",
    "Accuracy for step 2: 0.736125\n",
    "Accuracy for step 3: 0.6582250000000001\n",
    "Accuracy for step 4: 0.59445\n",
    "Accuracy for step 5: 0.5404\n",
    "Accuracy for step 6: 0.497725\n",
    "\n",
    "RELU:\n",
    "Accuracy for step 1: 0.828\n",
    "Accuracy for step 2: 0.7473500000000001\n",
    "Accuracy for step 3: 0.6609499999999999\n",
    "Accuracy for step 4: 0.5929000000000001\n",
    "Accuracy for step 5: 0.54105\n",
    "Accuracy for step 6: 0.49315\n",
    "'''"
   ]
  }
 ],
 "metadata": {
  "kernelspec": {
   "display_name": "Python 3",
   "language": "python",
   "name": "python3"
  },
  "language_info": {
   "codemirror_mode": {
    "name": "ipython",
    "version": 3
   },
   "file_extension": ".py",
   "mimetype": "text/x-python",
   "name": "python",
   "nbconvert_exporter": "python",
   "pygments_lexer": "ipython3",
   "version": "3.7.9"
  }
 },
 "nbformat": 4,
 "nbformat_minor": 4
}
